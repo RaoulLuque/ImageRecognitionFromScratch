{
 "cells": [
  {
   "cell_type": "markdown",
   "id": "3904af39",
   "metadata": {
    "id": "3904af39"
   },
   "source": [
    "# Preprocessing"
   ]
  },
  {
   "cell_type": "markdown",
   "id": "b9763a0d",
   "metadata": {},
   "source": [
    "To run locally, simply change the paths used to open the files to the corresponding paths and run all cells."
   ]
  },
  {
   "cell_type": "markdown",
   "id": "915770d2",
   "metadata": {
    "id": "915770d2"
   },
   "source": [
    "## Imports"
   ]
  },
  {
   "cell_type": "code",
   "execution_count": 1,
   "id": "cd3d8690",
   "metadata": {
    "executionInfo": {
     "elapsed": 3209,
     "status": "ok",
     "timestamp": 1733671074125,
     "user": {
      "displayName": "Raoul Luque",
      "userId": "07842398929620159788"
     },
     "user_tz": -60
    },
    "id": "cd3d8690"
   },
   "outputs": [],
   "source": [
    "import matplotlib.pyplot as plt\n",
    "import numpy as np\n",
    "import tensorflow as tf\n",
    "from tensorflow.keras import layers, regularizers, optimizers"
   ]
  },
  {
   "cell_type": "markdown",
   "id": "c87b128e",
   "metadata": {
    "id": "c87b128e"
   },
   "source": [
    "## Read training data and labels"
   ]
  },
  {
   "cell_type": "code",
   "execution_count": null,
   "id": "xqTIC29TFlc8",
   "metadata": {
    "colab": {
     "base_uri": "https://localhost:8080/"
    },
    "executionInfo": {
     "elapsed": 20515,
     "status": "ok",
     "timestamp": 1733671094635,
     "user": {
      "displayName": "Raoul Luque",
      "userId": "07842398929620159788"
     },
     "user_tz": -60
    },
    "id": "xqTIC29TFlc8",
    "outputId": "29a61ae1-f0f6-47e7-e51b-2b499d34c1e2"
   },
   "outputs": [
    {
     "ename": "ModuleNotFoundError",
     "evalue": "No module named 'google'",
     "output_type": "error",
     "traceback": [
      "\u001b[0;31m---------------------------------------------------------------------------\u001b[0m",
      "\u001b[0;31mModuleNotFoundError\u001b[0m                       Traceback (most recent call last)",
      "Cell \u001b[0;32mIn[2], line 1\u001b[0m\n\u001b[0;32m----> 1\u001b[0m \u001b[38;5;28;01mfrom\u001b[39;00m \u001b[38;5;21;01mgoogle\u001b[39;00m\u001b[38;5;21;01m.\u001b[39;00m\u001b[38;5;21;01mcolab\u001b[39;00m \u001b[38;5;28;01mimport\u001b[39;00m drive\n\u001b[1;32m      2\u001b[0m drive\u001b[38;5;241m.\u001b[39mmount(\u001b[38;5;124m'\u001b[39m\u001b[38;5;124m/content/drive\u001b[39m\u001b[38;5;124m'\u001b[39m)\n\u001b[1;32m      4\u001b[0m get_ipython()\u001b[38;5;241m.\u001b[39msystem(\u001b[38;5;124m'\u001b[39m\u001b[38;5;124mls /content/drive/My\u001b[39m\u001b[38;5;130;01m\\\\\u001b[39;00m\u001b[38;5;124m Drive/\u001b[39m\u001b[38;5;124m'\u001b[39m)\n",
      "\u001b[0;31mModuleNotFoundError\u001b[0m: No module named 'google'"
     ]
    }
   ],
   "source": [
    "# from google.colab import drive\n",
    "# drive.mount('/content/drive')\n",
    "\n",
    "# !ls /content/drive/My\\ Drive/"
   ]
  },
  {
   "cell_type": "code",
   "execution_count": null,
   "id": "1b9340cf-013f-4f07-adf9-b9c60e887d35",
   "metadata": {
    "executionInfo": {
     "elapsed": 6479,
     "status": "ok",
     "timestamp": 1733671101097,
     "user": {
      "displayName": "Raoul Luque",
      "userId": "07842398929620159788"
     },
     "user_tz": -60
    },
    "id": "1b9340cf-013f-4f07-adf9-b9c60e887d35"
   },
   "outputs": [],
   "source": [
    "# --- Read training data ---\n",
    "f = open('/content/drive/MyDrive/test/data/train-images-idx3-ubyte/train-images.idx3-ubyte', 'rb')\n",
    "\n",
    "# Read header (16 bytes)\n",
    "f.read(16)\n",
    "\n",
    "# The rest of the data are the images.\n",
    "# The intensity on the grey scale of each pixel is stored in one byte\n",
    "# The images are of size 28 x 28 which is why the take up 784 adjacent bytes\n",
    "training_images = []\n",
    "while True:\n",
    "    # Leemos la siguiente imagen\n",
    "    image = f.read(784)\n",
    "    if len(image) != 784: # Si no queda imagen parar\n",
    "        break\n",
    "    else: # Conversión de binario a entero\n",
    "        training_images.append([x for x in image])\n",
    "\n",
    "# Convert to numpy array\n",
    "training_images = np.array(training_images)\n",
    "\n",
    "# --- Read training labels ---\n",
    "f = open('/content/drive/MyDrive/test/data/train-labels-idx1-ubyte/train-labels.idx1-ubyte', 'rb')\n",
    "\n",
    "# Read header (8 bytes)\n",
    "f.read(8)\n",
    "\n",
    "# The rest of the data are the labels. Each label is one byte\n",
    "labels_wrong_format = np.array([x for x in f.read()])"
   ]
  },
  {
   "cell_type": "markdown",
   "id": "35a33b9e",
   "metadata": {
    "id": "35a33b9e"
   },
   "source": [
    "## Read test data"
   ]
  },
  {
   "cell_type": "code",
   "execution_count": 4,
   "id": "9881f616",
   "metadata": {
    "executionInfo": {
     "elapsed": 1590,
     "status": "ok",
     "timestamp": 1733671102682,
     "user": {
      "displayName": "Raoul Luque",
      "userId": "07842398929620159788"
     },
     "user_tz": -60
    },
    "id": "9881f616"
   },
   "outputs": [],
   "source": [
    "# Read in evaluation labels\n",
    "# Ejemplo de lectura de MNIST (imágenes). Leer archivo en binario\n",
    "f = open('/content/drive/MyDrive/test/data/t10k-images-idx3-ubyte/t10k-images.idx3-ubyte', 'rb')\n",
    "\n",
    "# Read header (16 bytes)\n",
    "f.read(16)\n",
    "\n",
    "# El resto de datos son las imágenes.\n",
    "# La intensidad en escala de grises para cada píxel se guarda en un byte\n",
    "# Las imágenes son de 28 * 28 por lo que ocupan 784 bytes adyacentes\n",
    "images_testing = []\n",
    "while True:\n",
    "    # Leemos la siguiente imagen\n",
    "    image_test = f.read(784)\n",
    "    if len(image_test) != 784: # Si no queda imagen parar\n",
    "        break\n",
    "    else: # Conversión de binario a entero\n",
    "        images_testing.append([x for x in image_test])\n",
    "\n",
    "# Conversión a array de NumPy\n",
    "images_testing = np.array(images_testing).reshape(-1, 28, 28, 1)\n",
    "\n",
    "# Lectura de etiquetas\n",
    "f = open('/content/drive/MyDrive/test/data/t10k-labels-idx1-ubyte/t10k-labels.idx1-ubyte', 'rb')\n",
    "\n",
    "# Descartar cabecera (8 bytes)\n",
    "f.read(8)\n",
    "\n",
    "# El resto de datos son las etiquetas. Cada etiqueta es un byte\n",
    "labels_testing = np.array([x for x in f.read()])"
   ]
  },
  {
   "cell_type": "markdown",
   "id": "95b531e8",
   "metadata": {
    "id": "95b531e8"
   },
   "source": [
    "## Bring data into correct format"
   ]
  },
  {
   "cell_type": "code",
   "execution_count": 5,
   "id": "0cb5b3b8",
   "metadata": {
    "executionInfo": {
     "elapsed": 9,
     "status": "ok",
     "timestamp": 1733671102686,
     "user": {
      "displayName": "Raoul Luque",
      "userId": "07842398929620159788"
     },
     "user_tz": -60
    },
    "id": "0cb5b3b8"
   },
   "outputs": [],
   "source": [
    "\n",
    "training_images = training_images / 255.0\n",
    "training_images = training_images.reshape(-1, 28, 28, 1)\n",
    "labels_training = tf.keras.utils.to_categorical(labels_wrong_format)\n",
    "\n",
    "images_testing = images_testing / 255.0\n",
    "images_testing = images_testing.reshape(-1, 28, 28, 1)\n",
    "labels_testing = tf.keras.utils.to_categorical(labels_testing)"
   ]
  },
  {
   "cell_type": "markdown",
   "id": "90de4ca7",
   "metadata": {
    "id": "90de4ca7"
   },
   "source": [
    "# Create model"
   ]
  },
  {
   "cell_type": "markdown",
   "id": "23090859",
   "metadata": {
    "id": "23090859"
   },
   "source": [
    "## Model configuration"
   ]
  },
  {
   "cell_type": "code",
   "execution_count": 6,
   "id": "53f2ec4e",
   "metadata": {
    "executionInfo": {
     "elapsed": 236,
     "status": "ok",
     "timestamp": 1733671102914,
     "user": {
      "displayName": "Raoul Luque",
      "userId": "07842398929620159788"
     },
     "user_tz": -60
    },
    "id": "53f2ec4e"
   },
   "outputs": [],
   "source": [
    "BATCH_SIZE = 64\n",
    "\n",
    "# Data augmentation to help prevent overfitting see, here:\n",
    "# https://stackoverflow.com/questions/70080062/how-to-correctly-use-imagedatagenerator-in-keras\n",
    "datagen = tf.keras.preprocessing.image.ImageDataGenerator(\n",
    "    rotation_range=25,\n",
    "    zoom_range=0.2,\n",
    "    width_shift_range=0.2,\n",
    "    height_shift_range=0.2,\n",
    "    horizontal_flip=False,\n",
    "    vertical_flip=False\n",
    ")\n",
    "datagen.fit(training_images)\n",
    "datagen_generator = datagen.flow(training_images, labels_training, batch_size=BATCH_SIZE)"
   ]
  },
  {
   "cell_type": "code",
   "execution_count": 7,
   "id": "3b43d10d",
   "metadata": {
    "executionInfo": {
     "elapsed": 8,
     "status": "ok",
     "timestamp": 1733671102914,
     "user": {
      "displayName": "Raoul Luque",
      "userId": "07842398929620159788"
     },
     "user_tz": -60
    },
    "id": "3b43d10d"
   },
   "outputs": [],
   "source": [
    "# Define a learning rate schedule\n",
    "def lr_schedule(epoch):\n",
    "    initial_lr = 0.0005\n",
    "    if epoch < 5:\n",
    "        return initial_lr * (epoch + 1) / 5\n",
    "    return initial_lr * 0.5 ** ((epoch - 5) // 5)"
   ]
  },
  {
   "cell_type": "code",
   "execution_count": 8,
   "id": "198bff18",
   "metadata": {
    "executionInfo": {
     "elapsed": 8,
     "status": "ok",
     "timestamp": 1733671102915,
     "user": {
      "displayName": "Raoul Luque",
      "userId": "07842398929620159788"
     },
     "user_tz": -60
    },
    "id": "198bff18"
   },
   "outputs": [],
   "source": [
    "# Callbacks\n",
    "early_stopping = tf.keras.callbacks.EarlyStopping(monitor='loss', patience=20, restore_best_weights=True, verbose=1)\n",
    "lr_scheduler = tf.keras.callbacks.LearningRateScheduler(lr_schedule)\n",
    "\n",
    "model_callbacks = [early_stopping, lr_scheduler]"
   ]
  },
  {
   "cell_type": "code",
   "execution_count": null,
   "id": "4f570fc7",
   "metadata": {
    "colab": {
     "base_uri": "https://localhost:8080/"
    },
    "executionInfo": {
     "elapsed": 2832,
     "status": "ok",
     "timestamp": 1733671105741,
     "user": {
      "displayName": "Raoul Luque",
      "userId": "07842398929620159788"
     },
     "user_tz": -60
    },
    "id": "4f570fc7",
    "outputId": "d1a0f4e5-8067-487c-e6d2-faf922232710"
   },
   "outputs": [
    {
     "name": "stderr",
     "output_type": "stream",
     "text": [
      "/usr/local/lib/python3.10/dist-packages/keras/src/layers/convolutional/base_conv.py:107: UserWarning: Do not pass an `input_shape`/`input_dim` argument to a layer. When using Sequential models, prefer using an `Input(shape)` object as the first layer in the model instead.\n",
      "  super().__init__(activity_regularizer=activity_regularizer, **kwargs)\n"
     ]
    }
   ],
   "source": [
    "def create_model():\n",
    "    model = tf.keras.models.Sequential()\n",
    "\n",
    "    # Block 1 - input_shape=(BATCH_SIZE, 1, 28, 28) output_shape=(BATCH_SIZE, 32, 28, 28)\n",
    "    model.add(layers.Conv2D(32, (5, 5), padding=\"same\", input_shape=(28, 28, 1)))\n",
    "    model.add(layers.ReLU())\n",
    "    model.add(layers.Dropout(0.2))\n",
    "\n",
    "    # Block 2 - input_shape=(BATCH_SIZE, 32, 28, 28) output_shape=(BATCH_SIZE, 64, 14, 14)\n",
    "    model.add(layers.Conv2D(64, (5, 5), padding=\"same\"))\n",
    "    model.add(layers.ReLU())\n",
    "    model.add(layers.MaxPooling2D(pool_size=(2, 2)))\n",
    "    model.add(layers.Dropout(0.2))\n",
    "\n",
    "    # Block 3 - input_shape=(BATCH_SIZE, 64, 14, 14) output_shape=(BATCH_SIZE, 96, 14, 14)\n",
    "    model.add(layers.Conv2D(96, (5, 5), padding=\"same\"))\n",
    "    model.add(layers.ReLU())\n",
    "    model.add(layers.Dropout(0.2))\n",
    "\n",
    "    # Block 4 - input_shape=(BATCH_SIZE, 96, 14, 14) output_shape=(BATCH_SIZE, 128, 7, 7)\n",
    "    model.add(layers.Conv2D(128, (5, 5), padding=\"same\"))\n",
    "    model.add(layers.ReLU())\n",
    "    model.add(layers.MaxPooling2D(pool_size=(2, 2)))\n",
    "    model.add(layers.Dropout(0.2))\n",
    "\n",
    "    # Block 5 - input_shape=(BATCH_SIZE, 128, 7, 7) output_shape=(BATCH_SIZE, 128 * 7 * 7)\n",
    "    model.add(layers.Flatten())\n",
    "\n",
    "    # Block 5 - input_shape=(BATCH_SIZE, 128 * 7 * 7) output_shape=(BATCH_SIZE, 10)\n",
    "    model.add(layers.Dense(10))\n",
    "    model.add(layers.BatchNormalization())\n",
    "    model.add(layers.Dense(10, activation='softmax'))\n",
    "\n",
    "    model.compile(optimizer=optimizers.Adam(learning_rate=0.0005), loss='categorical_crossentropy', metrics=['accuracy'])\n",
    "    return model\n",
    "\n",
    "model = create_model()"
   ]
  },
  {
   "cell_type": "code",
   "execution_count": null,
   "id": "c3cbb02c",
   "metadata": {
    "colab": {
     "base_uri": "https://localhost:8080/"
    },
    "executionInfo": {
     "elapsed": 61031,
     "status": "ok",
     "timestamp": 1733673835873,
     "user": {
      "displayName": "Raoul Luque",
      "userId": "07842398929620159788"
     },
     "user_tz": -60
    },
    "id": "c3cbb02c",
    "outputId": "61d84845-03bb-4e2d-9e63-92e947872311"
   },
   "outputs": [
    {
     "name": "stdout",
     "output_type": "stream",
     "text": [
      "Epoch 1/100\n"
     ]
    },
    {
     "name": "stderr",
     "output_type": "stream",
     "text": [
      "/usr/local/lib/python3.10/dist-packages/keras/src/trainers/data_adapters/py_dataset_adapter.py:122: UserWarning: Your `PyDataset` class should call `super().__init__(**kwargs)` in its constructor. `**kwargs` can include `workers`, `use_multiprocessing`, `max_queue_size`. Do not pass these arguments to `fit()`, as they will be ignored.\n",
      "  self._warn_if_super_not_called()\n"
     ]
    },
    {
     "name": "stdout",
     "output_type": "stream",
     "text": [
      "\u001b[1m938/938\u001b[0m \u001b[32m━━━━━━━━━━━━━━━━━━━━\u001b[0m\u001b[37m\u001b[0m \u001b[1m39s\u001b[0m 32ms/step - accuracy: 0.4644 - loss: 1.6745 - learning_rate: 1.0000e-04\n",
      "Epoch 2/100\n",
      "\u001b[1m938/938\u001b[0m \u001b[32m━━━━━━━━━━━━━━━━━━━━\u001b[0m\u001b[37m\u001b[0m \u001b[1m27s\u001b[0m 28ms/step - accuracy: 0.8982 - loss: 0.5894 - learning_rate: 2.0000e-04\n",
      "Epoch 3/100\n",
      "\u001b[1m938/938\u001b[0m \u001b[32m━━━━━━━━━━━━━━━━━━━━\u001b[0m\u001b[37m\u001b[0m \u001b[1m26s\u001b[0m 28ms/step - accuracy: 0.9574 - loss: 0.2407 - learning_rate: 3.0000e-04\n",
      "Epoch 4/100\n",
      "\u001b[1m938/938\u001b[0m \u001b[32m━━━━━━━━━━━━━━━━━━━━\u001b[0m\u001b[37m\u001b[0m \u001b[1m41s\u001b[0m 28ms/step - accuracy: 0.9722 - loss: 0.1259 - learning_rate: 4.0000e-04\n",
      "Epoch 5/100\n",
      "\u001b[1m938/938\u001b[0m \u001b[32m━━━━━━━━━━━━━━━━━━━━\u001b[0m\u001b[37m\u001b[0m \u001b[1m40s\u001b[0m 27ms/step - accuracy: 0.9757 - loss: 0.0929 - learning_rate: 5.0000e-04\n",
      "Epoch 6/100\n",
      "\u001b[1m938/938\u001b[0m \u001b[32m━━━━━━━━━━━━━━━━━━━━\u001b[0m\u001b[37m\u001b[0m \u001b[1m26s\u001b[0m 28ms/step - accuracy: 0.9823 - loss: 0.0652 - learning_rate: 5.0000e-04\n",
      "Epoch 7/100\n",
      "\u001b[1m938/938\u001b[0m \u001b[32m━━━━━━━━━━━━━━━━━━━━\u001b[0m\u001b[37m\u001b[0m \u001b[1m26s\u001b[0m 28ms/step - accuracy: 0.9827 - loss: 0.0582 - learning_rate: 5.0000e-04\n",
      "Epoch 8/100\n",
      "\u001b[1m938/938\u001b[0m \u001b[32m━━━━━━━━━━━━━━━━━━━━\u001b[0m\u001b[37m\u001b[0m \u001b[1m41s\u001b[0m 28ms/step - accuracy: 0.9839 - loss: 0.0555 - learning_rate: 5.0000e-04\n",
      "Epoch 9/100\n",
      "\u001b[1m938/938\u001b[0m \u001b[32m━━━━━━━━━━━━━━━━━━━━\u001b[0m\u001b[37m\u001b[0m \u001b[1m25s\u001b[0m 27ms/step - accuracy: 0.9857 - loss: 0.0489 - learning_rate: 5.0000e-04\n",
      "Epoch 10/100\n",
      "\u001b[1m938/938\u001b[0m \u001b[32m━━━━━━━━━━━━━━━━━━━━\u001b[0m\u001b[37m\u001b[0m \u001b[1m26s\u001b[0m 28ms/step - accuracy: 0.9850 - loss: 0.0469 - learning_rate: 5.0000e-04\n",
      "Epoch 11/100\n",
      "\u001b[1m938/938\u001b[0m \u001b[32m━━━━━━━━━━━━━━━━━━━━\u001b[0m\u001b[37m\u001b[0m \u001b[1m39s\u001b[0m 26ms/step - accuracy: 0.9884 - loss: 0.0394 - learning_rate: 2.5000e-04\n",
      "Epoch 12/100\n",
      "\u001b[1m938/938\u001b[0m \u001b[32m━━━━━━━━━━━━━━━━━━━━\u001b[0m\u001b[37m\u001b[0m \u001b[1m43s\u001b[0m 28ms/step - accuracy: 0.9907 - loss: 0.0324 - learning_rate: 2.5000e-04\n",
      "Epoch 13/100\n",
      "\u001b[1m938/938\u001b[0m \u001b[32m━━━━━━━━━━━━━━━━━━━━\u001b[0m\u001b[37m\u001b[0m \u001b[1m41s\u001b[0m 27ms/step - accuracy: 0.9914 - loss: 0.0299 - learning_rate: 2.5000e-04\n",
      "Epoch 14/100\n",
      "\u001b[1m938/938\u001b[0m \u001b[32m━━━━━━━━━━━━━━━━━━━━\u001b[0m\u001b[37m\u001b[0m \u001b[1m41s\u001b[0m 27ms/step - accuracy: 0.9903 - loss: 0.0324 - learning_rate: 2.5000e-04\n",
      "Epoch 15/100\n",
      "\u001b[1m938/938\u001b[0m \u001b[32m━━━━━━━━━━━━━━━━━━━━\u001b[0m\u001b[37m\u001b[0m \u001b[1m41s\u001b[0m 28ms/step - accuracy: 0.9909 - loss: 0.0296 - learning_rate: 2.5000e-04\n",
      "Epoch 16/100\n",
      "\u001b[1m938/938\u001b[0m \u001b[32m━━━━━━━━━━━━━━━━━━━━\u001b[0m\u001b[37m\u001b[0m \u001b[1m27s\u001b[0m 28ms/step - accuracy: 0.9920 - loss: 0.0258 - learning_rate: 1.2500e-04\n",
      "Epoch 17/100\n",
      "\u001b[1m938/938\u001b[0m \u001b[32m━━━━━━━━━━━━━━━━━━━━\u001b[0m\u001b[37m\u001b[0m \u001b[1m40s\u001b[0m 27ms/step - accuracy: 0.9925 - loss: 0.0247 - learning_rate: 1.2500e-04\n",
      "Epoch 18/100\n",
      "\u001b[1m938/938\u001b[0m \u001b[32m━━━━━━━━━━━━━━━━━━━━\u001b[0m\u001b[37m\u001b[0m \u001b[1m24s\u001b[0m 26ms/step - accuracy: 0.9928 - loss: 0.0245 - learning_rate: 1.2500e-04\n",
      "Epoch 19/100\n",
      "\u001b[1m938/938\u001b[0m \u001b[32m━━━━━━━━━━━━━━━━━━━━\u001b[0m\u001b[37m\u001b[0m \u001b[1m24s\u001b[0m 26ms/step - accuracy: 0.9928 - loss: 0.0234 - learning_rate: 1.2500e-04\n",
      "Epoch 20/100\n",
      "\u001b[1m938/938\u001b[0m \u001b[32m━━━━━━━━━━━━━━━━━━━━\u001b[0m\u001b[37m\u001b[0m \u001b[1m25s\u001b[0m 26ms/step - accuracy: 0.9930 - loss: 0.0229 - learning_rate: 1.2500e-04\n",
      "Epoch 21/100\n",
      "\u001b[1m938/938\u001b[0m \u001b[32m━━━━━━━━━━━━━━━━━━━━\u001b[0m\u001b[37m\u001b[0m \u001b[1m25s\u001b[0m 26ms/step - accuracy: 0.9932 - loss: 0.0227 - learning_rate: 6.2500e-05\n",
      "Epoch 22/100\n",
      "\u001b[1m938/938\u001b[0m \u001b[32m━━━━━━━━━━━━━━━━━━━━\u001b[0m\u001b[37m\u001b[0m \u001b[1m26s\u001b[0m 28ms/step - accuracy: 0.9938 - loss: 0.0198 - learning_rate: 6.2500e-05\n",
      "Epoch 23/100\n",
      "\u001b[1m938/938\u001b[0m \u001b[32m━━━━━━━━━━━━━━━━━━━━\u001b[0m\u001b[37m\u001b[0m \u001b[1m25s\u001b[0m 26ms/step - accuracy: 0.9940 - loss: 0.0205 - learning_rate: 6.2500e-05\n",
      "Epoch 24/100\n",
      "\u001b[1m938/938\u001b[0m \u001b[32m━━━━━━━━━━━━━━━━━━━━\u001b[0m\u001b[37m\u001b[0m \u001b[1m42s\u001b[0m 28ms/step - accuracy: 0.9939 - loss: 0.0200 - learning_rate: 6.2500e-05\n",
      "Epoch 25/100\n",
      "\u001b[1m938/938\u001b[0m \u001b[32m━━━━━━━━━━━━━━━━━━━━\u001b[0m\u001b[37m\u001b[0m \u001b[1m39s\u001b[0m 26ms/step - accuracy: 0.9936 - loss: 0.0196 - learning_rate: 6.2500e-05\n",
      "Epoch 26/100\n",
      "\u001b[1m938/938\u001b[0m \u001b[32m━━━━━━━━━━━━━━━━━━━━\u001b[0m\u001b[37m\u001b[0m \u001b[1m23s\u001b[0m 24ms/step - accuracy: 0.9953 - loss: 0.0174 - learning_rate: 3.1250e-05\n",
      "Epoch 27/100\n",
      "\u001b[1m938/938\u001b[0m \u001b[32m━━━━━━━━━━━━━━━━━━━━\u001b[0m\u001b[37m\u001b[0m \u001b[1m42s\u001b[0m 26ms/step - accuracy: 0.9951 - loss: 0.0174 - learning_rate: 3.1250e-05\n",
      "Epoch 28/100\n",
      "\u001b[1m938/938\u001b[0m \u001b[32m━━━━━━━━━━━━━━━━━━━━\u001b[0m\u001b[37m\u001b[0m \u001b[1m23s\u001b[0m 24ms/step - accuracy: 0.9958 - loss: 0.0147 - learning_rate: 3.1250e-05\n",
      "Epoch 29/100\n",
      "\u001b[1m938/938\u001b[0m \u001b[32m━━━━━━━━━━━━━━━━━━━━\u001b[0m\u001b[37m\u001b[0m \u001b[1m25s\u001b[0m 26ms/step - accuracy: 0.9952 - loss: 0.0168 - learning_rate: 3.1250e-05\n",
      "Epoch 30/100\n",
      "\u001b[1m938/938\u001b[0m \u001b[32m━━━━━━━━━━━━━━━━━━━━\u001b[0m\u001b[37m\u001b[0m \u001b[1m26s\u001b[0m 27ms/step - accuracy: 0.9957 - loss: 0.0172 - learning_rate: 3.1250e-05\n",
      "Epoch 31/100\n",
      "\u001b[1m938/938\u001b[0m \u001b[32m━━━━━━━━━━━━━━━━━━━━\u001b[0m\u001b[37m\u001b[0m \u001b[1m41s\u001b[0m 27ms/step - accuracy: 0.9947 - loss: 0.0176 - learning_rate: 1.5625e-05\n",
      "Epoch 32/100\n",
      "\u001b[1m938/938\u001b[0m \u001b[32m━━━━━━━━━━━━━━━━━━━━\u001b[0m\u001b[37m\u001b[0m \u001b[1m27s\u001b[0m 28ms/step - accuracy: 0.9945 - loss: 0.0174 - learning_rate: 1.5625e-05\n",
      "Epoch 33/100\n",
      "\u001b[1m938/938\u001b[0m \u001b[32m━━━━━━━━━━━━━━━━━━━━\u001b[0m\u001b[37m\u001b[0m \u001b[1m40s\u001b[0m 27ms/step - accuracy: 0.9948 - loss: 0.0186 - learning_rate: 1.5625e-05\n",
      "Epoch 34/100\n",
      "\u001b[1m938/938\u001b[0m \u001b[32m━━━━━━━━━━━━━━━━━━━━\u001b[0m\u001b[37m\u001b[0m \u001b[1m26s\u001b[0m 27ms/step - accuracy: 0.9952 - loss: 0.0168 - learning_rate: 1.5625e-05\n",
      "Epoch 35/100\n",
      "\u001b[1m938/938\u001b[0m \u001b[32m━━━━━━━━━━━━━━━━━━━━\u001b[0m\u001b[37m\u001b[0m \u001b[1m25s\u001b[0m 27ms/step - accuracy: 0.9957 - loss: 0.0164 - learning_rate: 1.5625e-05\n",
      "Epoch 36/100\n",
      "\u001b[1m938/938\u001b[0m \u001b[32m━━━━━━━━━━━━━━━━━━━━\u001b[0m\u001b[37m\u001b[0m \u001b[1m23s\u001b[0m 25ms/step - accuracy: 0.9954 - loss: 0.0166 - learning_rate: 7.8125e-06\n",
      "Epoch 37/100\n",
      "\u001b[1m938/938\u001b[0m \u001b[32m━━━━━━━━━━━━━━━━━━━━\u001b[0m\u001b[37m\u001b[0m \u001b[1m45s\u001b[0m 29ms/step - accuracy: 0.9952 - loss: 0.0161 - learning_rate: 7.8125e-06\n",
      "Epoch 38/100\n",
      "\u001b[1m938/938\u001b[0m \u001b[32m━━━━━━━━━━━━━━━━━━━━\u001b[0m\u001b[37m\u001b[0m \u001b[1m41s\u001b[0m 29ms/step - accuracy: 0.9952 - loss: 0.0152 - learning_rate: 7.8125e-06\n",
      "Epoch 39/100\n",
      "\u001b[1m938/938\u001b[0m \u001b[32m━━━━━━━━━━━━━━━━━━━━\u001b[0m\u001b[37m\u001b[0m \u001b[1m26s\u001b[0m 27ms/step - accuracy: 0.9946 - loss: 0.0172 - learning_rate: 7.8125e-06\n",
      "Epoch 40/100\n",
      "\u001b[1m938/938\u001b[0m \u001b[32m━━━━━━━━━━━━━━━━━━━━\u001b[0m\u001b[37m\u001b[0m \u001b[1m25s\u001b[0m 27ms/step - accuracy: 0.9945 - loss: 0.0180 - learning_rate: 7.8125e-06\n",
      "Epoch 41/100\n",
      "\u001b[1m938/938\u001b[0m \u001b[32m━━━━━━━━━━━━━━━━━━━━\u001b[0m\u001b[37m\u001b[0m \u001b[1m25s\u001b[0m 26ms/step - accuracy: 0.9948 - loss: 0.0169 - learning_rate: 3.9063e-06\n",
      "Epoch 42/100\n",
      "\u001b[1m938/938\u001b[0m \u001b[32m━━━━━━━━━━━━━━━━━━━━\u001b[0m\u001b[37m\u001b[0m \u001b[1m41s\u001b[0m 27ms/step - accuracy: 0.9957 - loss: 0.0151 - learning_rate: 3.9063e-06\n",
      "Epoch 43/100\n",
      "\u001b[1m938/938\u001b[0m \u001b[32m━━━━━━━━━━━━━━━━━━━━\u001b[0m\u001b[37m\u001b[0m \u001b[1m41s\u001b[0m 27ms/step - accuracy: 0.9958 - loss: 0.0148 - learning_rate: 3.9063e-06\n",
      "Epoch 44/100\n",
      "\u001b[1m938/938\u001b[0m \u001b[32m━━━━━━━━━━━━━━━━━━━━\u001b[0m\u001b[37m\u001b[0m \u001b[1m41s\u001b[0m 27ms/step - accuracy: 0.9953 - loss: 0.0152 - learning_rate: 3.9063e-06\n",
      "Epoch 45/100\n",
      "\u001b[1m938/938\u001b[0m \u001b[32m━━━━━━━━━━━━━━━━━━━━\u001b[0m\u001b[37m\u001b[0m \u001b[1m25s\u001b[0m 27ms/step - accuracy: 0.9949 - loss: 0.0160 - learning_rate: 3.9063e-06\n",
      "Epoch 46/100\n",
      "\u001b[1m938/938\u001b[0m \u001b[32m━━━━━━━━━━━━━━━━━━━━\u001b[0m\u001b[37m\u001b[0m \u001b[1m25s\u001b[0m 26ms/step - accuracy: 0.9954 - loss: 0.0153 - learning_rate: 1.9531e-06\n",
      "Epoch 47/100\n",
      "\u001b[1m938/938\u001b[0m \u001b[32m━━━━━━━━━━━━━━━━━━━━\u001b[0m\u001b[37m\u001b[0m \u001b[1m42s\u001b[0m 27ms/step - accuracy: 0.9945 - loss: 0.0172 - learning_rate: 1.9531e-06\n",
      "Epoch 48/100\n",
      "\u001b[1m938/938\u001b[0m \u001b[32m━━━━━━━━━━━━━━━━━━━━\u001b[0m\u001b[37m\u001b[0m \u001b[1m40s\u001b[0m 26ms/step - accuracy: 0.9954 - loss: 0.0154 - learning_rate: 1.9531e-06\n",
      "Epoch 49/100\n",
      "\u001b[1m938/938\u001b[0m \u001b[32m━━━━━━━━━━━━━━━━━━━━\u001b[0m\u001b[37m\u001b[0m \u001b[1m41s\u001b[0m 26ms/step - accuracy: 0.9952 - loss: 0.0159 - learning_rate: 1.9531e-06\n",
      "Epoch 50/100\n",
      "\u001b[1m938/938\u001b[0m \u001b[32m━━━━━━━━━━━━━━━━━━━━\u001b[0m\u001b[37m\u001b[0m \u001b[1m24s\u001b[0m 25ms/step - accuracy: 0.9952 - loss: 0.0158 - learning_rate: 1.9531e-06\n",
      "Epoch 51/100\n",
      "\u001b[1m938/938\u001b[0m \u001b[32m━━━━━━━━━━━━━━━━━━━━\u001b[0m\u001b[37m\u001b[0m \u001b[1m42s\u001b[0m 26ms/step - accuracy: 0.9956 - loss: 0.0154 - learning_rate: 9.7656e-07\n",
      "Epoch 52/100\n",
      "\u001b[1m938/938\u001b[0m \u001b[32m━━━━━━━━━━━━━━━━━━━━\u001b[0m\u001b[37m\u001b[0m \u001b[1m24s\u001b[0m 25ms/step - accuracy: 0.9951 - loss: 0.0162 - learning_rate: 9.7656e-07\n",
      "Epoch 53/100\n",
      "\u001b[1m938/938\u001b[0m \u001b[32m━━━━━━━━━━━━━━━━━━━━\u001b[0m\u001b[37m\u001b[0m \u001b[1m24s\u001b[0m 25ms/step - accuracy: 0.9959 - loss: 0.0143 - learning_rate: 9.7656e-07\n",
      "Epoch 54/100\n",
      "\u001b[1m938/938\u001b[0m \u001b[32m━━━━━━━━━━━━━━━━━━━━\u001b[0m\u001b[37m\u001b[0m \u001b[1m41s\u001b[0m 26ms/step - accuracy: 0.9955 - loss: 0.0155 - learning_rate: 9.7656e-07\n",
      "Epoch 55/100\n",
      "\u001b[1m938/938\u001b[0m \u001b[32m━━━━━━━━━━━━━━━━━━━━\u001b[0m\u001b[37m\u001b[0m \u001b[1m25s\u001b[0m 26ms/step - accuracy: 0.9960 - loss: 0.0152 - learning_rate: 9.7656e-07\n",
      "Epoch 56/100\n",
      "\u001b[1m938/938\u001b[0m \u001b[32m━━━━━━━━━━━━━━━━━━━━\u001b[0m\u001b[37m\u001b[0m \u001b[1m25s\u001b[0m 27ms/step - accuracy: 0.9962 - loss: 0.0139 - learning_rate: 4.8828e-07\n",
      "Epoch 57/100\n",
      "\u001b[1m938/938\u001b[0m \u001b[32m━━━━━━━━━━━━━━━━━━━━\u001b[0m\u001b[37m\u001b[0m \u001b[1m40s\u001b[0m 26ms/step - accuracy: 0.9954 - loss: 0.0159 - learning_rate: 4.8828e-07\n",
      "Epoch 58/100\n",
      "\u001b[1m938/938\u001b[0m \u001b[32m━━━━━━━━━━━━━━━━━━━━\u001b[0m\u001b[37m\u001b[0m \u001b[1m25s\u001b[0m 26ms/step - accuracy: 0.9957 - loss: 0.0140 - learning_rate: 4.8828e-07\n",
      "Epoch 59/100\n",
      "\u001b[1m938/938\u001b[0m \u001b[32m━━━━━━━━━━━━━━━━━━━━\u001b[0m\u001b[37m\u001b[0m \u001b[1m41s\u001b[0m 26ms/step - accuracy: 0.9952 - loss: 0.0153 - learning_rate: 4.8828e-07\n",
      "Epoch 60/100\n",
      "\u001b[1m938/938\u001b[0m \u001b[32m━━━━━━━━━━━━━━━━━━━━\u001b[0m\u001b[37m\u001b[0m \u001b[1m25s\u001b[0m 26ms/step - accuracy: 0.9957 - loss: 0.0156 - learning_rate: 4.8828e-07\n",
      "Epoch 61/100\n",
      "\u001b[1m938/938\u001b[0m \u001b[32m━━━━━━━━━━━━━━━━━━━━\u001b[0m\u001b[37m\u001b[0m \u001b[1m25s\u001b[0m 27ms/step - accuracy: 0.9961 - loss: 0.0137 - learning_rate: 2.4414e-07\n",
      "Epoch 62/100\n",
      "\u001b[1m938/938\u001b[0m \u001b[32m━━━━━━━━━━━━━━━━━━━━\u001b[0m\u001b[37m\u001b[0m \u001b[1m26s\u001b[0m 28ms/step - accuracy: 0.9950 - loss: 0.0155 - learning_rate: 2.4414e-07\n",
      "Epoch 63/100\n",
      "\u001b[1m938/938\u001b[0m \u001b[32m━━━━━━━━━━━━━━━━━━━━\u001b[0m\u001b[37m\u001b[0m \u001b[1m41s\u001b[0m 28ms/step - accuracy: 0.9955 - loss: 0.0167 - learning_rate: 2.4414e-07\n",
      "Epoch 64/100\n",
      "\u001b[1m938/938\u001b[0m \u001b[32m━━━━━━━━━━━━━━━━━━━━\u001b[0m\u001b[37m\u001b[0m \u001b[1m24s\u001b[0m 25ms/step - accuracy: 0.9954 - loss: 0.0162 - learning_rate: 2.4414e-07\n",
      "Epoch 65/100\n",
      "\u001b[1m938/938\u001b[0m \u001b[32m━━━━━━━━━━━━━━━━━━━━\u001b[0m\u001b[37m\u001b[0m \u001b[1m24s\u001b[0m 25ms/step - accuracy: 0.9960 - loss: 0.0138 - learning_rate: 2.4414e-07\n",
      "Epoch 66/100\n",
      "\u001b[1m938/938\u001b[0m \u001b[32m━━━━━━━━━━━━━━━━━━━━\u001b[0m\u001b[37m\u001b[0m \u001b[1m25s\u001b[0m 26ms/step - accuracy: 0.9958 - loss: 0.0149 - learning_rate: 1.2207e-07\n",
      "Epoch 67/100\n",
      "\u001b[1m938/938\u001b[0m \u001b[32m━━━━━━━━━━━━━━━━━━━━\u001b[0m\u001b[37m\u001b[0m \u001b[1m41s\u001b[0m 26ms/step - accuracy: 0.9950 - loss: 0.0163 - learning_rate: 1.2207e-07\n",
      "Epoch 68/100\n",
      "\u001b[1m938/938\u001b[0m \u001b[32m━━━━━━━━━━━━━━━━━━━━\u001b[0m\u001b[37m\u001b[0m \u001b[1m24s\u001b[0m 26ms/step - accuracy: 0.9963 - loss: 0.0140 - learning_rate: 1.2207e-07\n",
      "Epoch 69/100\n",
      "\u001b[1m938/938\u001b[0m \u001b[32m━━━━━━━━━━━━━━━━━━━━\u001b[0m\u001b[37m\u001b[0m \u001b[1m41s\u001b[0m 26ms/step - accuracy: 0.9947 - loss: 0.0185 - learning_rate: 1.2207e-07\n",
      "Epoch 70/100\n",
      "\u001b[1m938/938\u001b[0m \u001b[32m━━━━━━━━━━━━━━━━━━━━\u001b[0m\u001b[37m\u001b[0m \u001b[1m24s\u001b[0m 26ms/step - accuracy: 0.9955 - loss: 0.0145 - learning_rate: 1.2207e-07\n",
      "Epoch 71/100\n",
      "\u001b[1m938/938\u001b[0m \u001b[32m━━━━━━━━━━━━━━━━━━━━\u001b[0m\u001b[37m\u001b[0m \u001b[1m41s\u001b[0m 26ms/step - accuracy: 0.9956 - loss: 0.0158 - learning_rate: 6.1035e-08\n",
      "Epoch 72/100\n",
      "\u001b[1m938/938\u001b[0m \u001b[32m━━━━━━━━━━━━━━━━━━━━\u001b[0m\u001b[37m\u001b[0m \u001b[1m24s\u001b[0m 26ms/step - accuracy: 0.9948 - loss: 0.0176 - learning_rate: 6.1035e-08\n",
      "Epoch 73/100\n",
      "\u001b[1m938/938\u001b[0m \u001b[32m━━━━━━━━━━━━━━━━━━━━\u001b[0m\u001b[37m\u001b[0m \u001b[1m23s\u001b[0m 25ms/step - accuracy: 0.9954 - loss: 0.0151 - learning_rate: 6.1035e-08\n",
      "Epoch 74/100\n",
      "\u001b[1m938/938\u001b[0m \u001b[32m━━━━━━━━━━━━━━━━━━━━\u001b[0m\u001b[37m\u001b[0m \u001b[1m42s\u001b[0m 26ms/step - accuracy: 0.9953 - loss: 0.0162 - learning_rate: 6.1035e-08\n",
      "Epoch 75/100\n",
      "\u001b[1m938/938\u001b[0m \u001b[32m━━━━━━━━━━━━━━━━━━━━\u001b[0m\u001b[37m\u001b[0m \u001b[1m41s\u001b[0m 26ms/step - accuracy: 0.9951 - loss: 0.0156 - learning_rate: 6.1035e-08\n",
      "Epoch 76/100\n",
      "\u001b[1m938/938\u001b[0m \u001b[32m━━━━━━━━━━━━━━━━━━━━\u001b[0m\u001b[37m\u001b[0m \u001b[1m41s\u001b[0m 26ms/step - accuracy: 0.9957 - loss: 0.0147 - learning_rate: 3.0518e-08\n",
      "Epoch 77/100\n",
      "\u001b[1m938/938\u001b[0m \u001b[32m━━━━━━━━━━━━━━━━━━━━\u001b[0m\u001b[37m\u001b[0m \u001b[1m42s\u001b[0m 26ms/step - accuracy: 0.9952 - loss: 0.0158 - learning_rate: 3.0518e-08\n",
      "Epoch 78/100\n",
      "\u001b[1m938/938\u001b[0m \u001b[32m━━━━━━━━━━━━━━━━━━━━\u001b[0m\u001b[37m\u001b[0m \u001b[1m26s\u001b[0m 28ms/step - accuracy: 0.9954 - loss: 0.0151 - learning_rate: 3.0518e-08\n",
      "Epoch 79/100\n",
      "\u001b[1m938/938\u001b[0m \u001b[32m━━━━━━━━━━━━━━━━━━━━\u001b[0m\u001b[37m\u001b[0m \u001b[1m26s\u001b[0m 27ms/step - accuracy: 0.9949 - loss: 0.0155 - learning_rate: 3.0518e-08\n",
      "Epoch 80/100\n",
      "\u001b[1m938/938\u001b[0m \u001b[32m━━━━━━━━━━━━━━━━━━━━\u001b[0m\u001b[37m\u001b[0m \u001b[1m41s\u001b[0m 28ms/step - accuracy: 0.9957 - loss: 0.0164 - learning_rate: 3.0518e-08\n",
      "Epoch 81/100\n",
      "\u001b[1m938/938\u001b[0m \u001b[32m━━━━━━━━━━━━━━━━━━━━\u001b[0m\u001b[37m\u001b[0m \u001b[1m39s\u001b[0m 26ms/step - accuracy: 0.9954 - loss: 0.0155 - learning_rate: 1.5259e-08\n",
      "Epoch 82/100\n",
      "\u001b[1m938/938\u001b[0m \u001b[32m━━━━━━━━━━━━━━━━━━━━\u001b[0m\u001b[37m\u001b[0m \u001b[1m25s\u001b[0m 26ms/step - accuracy: 0.9957 - loss: 0.0150 - learning_rate: 1.5259e-08\n",
      "Epoch 83/100\n",
      "\u001b[1m938/938\u001b[0m \u001b[32m━━━━━━━━━━━━━━━━━━━━\u001b[0m\u001b[37m\u001b[0m \u001b[1m23s\u001b[0m 25ms/step - accuracy: 0.9953 - loss: 0.0157 - learning_rate: 1.5259e-08\n",
      "Epoch 84/100\n",
      "\u001b[1m938/938\u001b[0m \u001b[32m━━━━━━━━━━━━━━━━━━━━\u001b[0m\u001b[37m\u001b[0m \u001b[1m26s\u001b[0m 27ms/step - accuracy: 0.9953 - loss: 0.0164 - learning_rate: 1.5259e-08\n",
      "Epoch 85/100\n",
      "\u001b[1m938/938\u001b[0m \u001b[32m━━━━━━━━━━━━━━━━━━━━\u001b[0m\u001b[37m\u001b[0m \u001b[1m26s\u001b[0m 28ms/step - accuracy: 0.9954 - loss: 0.0157 - learning_rate: 1.5259e-08\n",
      "Epoch 85: early stopping\n",
      "Restoring model weights from the end of the best epoch: 65.\n"
     ]
    },
    {
     "data": {
      "text/plain": [
       "<keras.src.callbacks.history.History at 0x7c01f2fdfbb0>"
      ]
     },
     "execution_count": 10,
     "metadata": {},
     "output_type": "execute_result"
    }
   ],
   "source": [
    "EPOCHS = 100\n",
    "\n",
    "model.fit(\n",
    "    datagen_generator,\n",
    "    epochs=EPOCHS,\n",
    "    callbacks=model_callbacks\n",
    ")\n",
    "\n",
    "# Total training time around 3022 seconds"
   ]
  },
  {
   "cell_type": "code",
   "execution_count": 11,
   "id": "4_1ozuAkd32p",
   "metadata": {
    "executionInfo": {
     "elapsed": 5,
     "status": "ok",
     "timestamp": 1733673835874,
     "user": {
      "displayName": "Raoul Luque",
      "userId": "07842398929620159788"
     },
     "user_tz": -60
    },
    "id": "4_1ozuAkd32p"
   },
   "outputs": [],
   "source": [
    "# # Optionally load model\n",
    "# model = tf.keras.models.load_model('final_model.keras')"
   ]
  },
  {
   "cell_type": "markdown",
   "id": "q_1D2PpyeeT5",
   "metadata": {
    "id": "q_1D2PpyeeT5"
   },
   "source": []
  },
  {
   "cell_type": "code",
   "execution_count": 12,
   "id": "bd5ac4e4",
   "metadata": {
    "colab": {
     "base_uri": "https://localhost:8080/"
    },
    "executionInfo": {
     "elapsed": 4954,
     "status": "ok",
     "timestamp": 1733673840824,
     "user": {
      "displayName": "Raoul Luque",
      "userId": "07842398929620159788"
     },
     "user_tz": -60
    },
    "id": "bd5ac4e4",
    "outputId": "597b002c-7cab-4885-93df-f609ba59b257"
   },
   "outputs": [
    {
     "name": "stdout",
     "output_type": "stream",
     "text": [
      "\u001b[1m313/313\u001b[0m \u001b[32m━━━━━━━━━━━━━━━━━━━━\u001b[0m\u001b[37m\u001b[0m \u001b[1m3s\u001b[0m 6ms/step - accuracy: 0.9971 - loss: 0.0109\n",
      "\u001b[1m313/313\u001b[0m \u001b[32m━━━━━━━━━━━━━━━━━━━━\u001b[0m\u001b[37m\u001b[0m \u001b[1m1s\u001b[0m 3ms/step\n",
      "Number of correctly recognized images: 9975 out of 10000\n",
      "The error rate is 0.25%\n"
     ]
    }
   ],
   "source": [
    "model.evaluate(images_testing, labels_testing)\n",
    "\n",
    "# Predict the labels for the test images\n",
    "predictions = model.predict(images_testing)\n",
    "\n",
    "# Convert predictions to label indices\n",
    "predicted_labels = np.argmax(predictions, axis=1)\n",
    "\n",
    "# Convert true labels from one-hot encoding to label indices\n",
    "true_labels = np.argmax(labels_testing, axis=1)\n",
    "\n",
    "# Compare predicted labels with true labels\n",
    "correct_predictions = np.sum(predicted_labels == true_labels)\n",
    "\n",
    "print(f\"Number of correctly recognized images: {correct_predictions} out of {len(images_testing)}\")\n",
    "error = (len(images_testing) - correct_predictions) / len(images_testing)\n",
    "print(f\"The error rate is {error * 100}%\")"
   ]
  },
  {
   "cell_type": "code",
   "execution_count": 13,
   "id": "9_4ccCUOVMPR",
   "metadata": {
    "executionInfo": {
     "elapsed": 3,
     "status": "ok",
     "timestamp": 1733673840825,
     "user": {
      "displayName": "Raoul Luque",
      "userId": "07842398929620159788"
     },
     "user_tz": -60
    },
    "id": "9_4ccCUOVMPR"
   },
   "outputs": [],
   "source": [
    "model.save('model.keras')"
   ]
  },
  {
   "cell_type": "code",
   "execution_count": 1,
   "id": "9ibocJ3hEiHz",
   "metadata": {
    "colab": {
     "base_uri": "https://localhost:8080/"
    },
    "id": "9ibocJ3hEiHz",
    "outputId": "328468f3-32db-4006-8c64-251f8a307a46"
   },
   "outputs": [
    {
     "ename": "NameError",
     "evalue": "name 'images_testing' is not defined",
     "output_type": "error",
     "traceback": [
      "\u001b[0;31m---------------------------------------------------------------------------\u001b[0m",
      "\u001b[0;31mNameError\u001b[0m                                 Traceback (most recent call last)",
      "Cell \u001b[0;32mIn[1], line 4\u001b[0m\n\u001b[1;32m      1\u001b[0m \u001b[38;5;66;03m# Output result in desired format\u001b[39;00m\n\u001b[1;32m      2\u001b[0m result \u001b[38;5;241m=\u001b[39m \u001b[38;5;124m\"\u001b[39m\u001b[38;5;124m\"\u001b[39m\n\u001b[0;32m----> 4\u001b[0m \u001b[38;5;28;01mfor\u001b[39;00m index \u001b[38;5;129;01min\u001b[39;00m \u001b[38;5;28mrange\u001b[39m(\u001b[38;5;28mlen\u001b[39m(\u001b[43mimages_testing\u001b[49m)):\n\u001b[1;32m      5\u001b[0m   prediction \u001b[38;5;241m=\u001b[39m model\u001b[38;5;241m.\u001b[39mpredict(images_testing[index]\u001b[38;5;241m.\u001b[39mreshape(\u001b[38;5;241m1\u001b[39m, \u001b[38;5;241m28\u001b[39m, \u001b[38;5;241m28\u001b[39m, \u001b[38;5;241m1\u001b[39m))\n\u001b[1;32m      6\u001b[0m   predicted_label \u001b[38;5;241m=\u001b[39m np\u001b[38;5;241m.\u001b[39margmax(prediction)\n",
      "\u001b[0;31mNameError\u001b[0m: name 'images_testing' is not defined"
     ]
    }
   ],
   "source": [
    "# Output result in desired format\n",
    "result = \"\"\n",
    "\n",
    "for index in range(len(images_testing)):\n",
    "  prediction = model.predict(images_testing[index].reshape(1, 28, 28, 1))\n",
    "  predicted_label = np.argmax(prediction)\n",
    "  result += str(predicted_label)\n",
    "\n",
    "with open('result.txt', 'w') as f:\n",
    "  f.write(result)"
   ]
  }
 ],
 "metadata": {
  "accelerator": "GPU",
  "colab": {
   "gpuType": "T4",
   "provenance": [
    {
     "file_id": "1Xo-IyWvAL-GL5lOXG5KtkHOvHIdZl8xk",
     "timestamp": 1733668905781
    },
    {
     "file_id": "1qzFCPLq5ONSc5fHEUgEAh4zE5x-FTRwJ",
     "timestamp": 1732992913261
    }
   ]
  },
  "kernelspec": {
   "display_name": "Python 3",
   "name": "python3"
  },
  "language_info": {
   "codemirror_mode": {
    "name": "ipython",
    "version": 3
   },
   "file_extension": ".py",
   "mimetype": "text/x-python",
   "name": "python",
   "nbconvert_exporter": "python",
   "pygments_lexer": "ipython3",
   "version": "3.11.10"
  }
 },
 "nbformat": 4,
 "nbformat_minor": 5
}
